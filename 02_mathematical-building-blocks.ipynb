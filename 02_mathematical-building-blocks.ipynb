{
 "cells": [
  {
   "cell_type": "code",
   "id": "initial_id",
   "metadata": {
    "collapsed": true,
    "ExecuteTime": {
     "end_time": "2025-01-21T10:52:39.556860Z",
     "start_time": "2025-01-21T10:52:39.396891Z"
    }
   },
   "source": [
    "from tensorflow.keras.datasets import mnist\n",
    "(train_images, train_labels), (test_images, test_labels) = mnist.load_data()\n",
    "\n",
    "train_images.shape\n"
   ],
   "outputs": [
    {
     "data": {
      "text/plain": [
       "(60000, 28, 28)"
      ]
     },
     "execution_count": 19,
     "metadata": {},
     "output_type": "execute_result"
    }
   ],
   "execution_count": 19
  },
  {
   "cell_type": "code",
   "id": "aa4fa8da",
   "metadata": {
    "ExecuteTime": {
     "end_time": "2025-01-21T10:52:39.568318Z",
     "start_time": "2025-01-21T10:52:39.565541Z"
    }
   },
   "source": [
    "\n",
    "len(train_images)"
   ],
   "outputs": [
    {
     "data": {
      "text/plain": [
       "60000"
      ]
     },
     "execution_count": 20,
     "metadata": {},
     "output_type": "execute_result"
    }
   ],
   "execution_count": 20
  },
  {
   "metadata": {
    "ExecuteTime": {
     "end_time": "2025-01-21T10:52:39.582614Z",
     "start_time": "2025-01-21T10:52:39.580043Z"
    }
   },
   "cell_type": "code",
   "source": "train_labels",
   "id": "a3792d9191384453",
   "outputs": [
    {
     "data": {
      "text/plain": [
       "array([5, 0, 4, ..., 5, 6, 8], dtype=uint8)"
      ]
     },
     "execution_count": 21,
     "metadata": {},
     "output_type": "execute_result"
    }
   ],
   "execution_count": 21
  },
  {
   "metadata": {
    "ExecuteTime": {
     "end_time": "2025-01-21T10:52:39.590644Z",
     "start_time": "2025-01-21T10:52:39.588173Z"
    }
   },
   "cell_type": "code",
   "source": "test_images.shape",
   "id": "9d92b7372660715",
   "outputs": [
    {
     "data": {
      "text/plain": [
       "(10000, 28, 28)"
      ]
     },
     "execution_count": 22,
     "metadata": {},
     "output_type": "execute_result"
    }
   ],
   "execution_count": 22
  },
  {
   "metadata": {
    "ExecuteTime": {
     "end_time": "2025-01-21T10:52:39.598963Z",
     "start_time": "2025-01-21T10:52:39.596772Z"
    }
   },
   "cell_type": "code",
   "source": "len(test_images)",
   "id": "dc13340d7014fe5f",
   "outputs": [
    {
     "data": {
      "text/plain": [
       "10000"
      ]
     },
     "execution_count": 23,
     "metadata": {},
     "output_type": "execute_result"
    }
   ],
   "execution_count": 23
  },
  {
   "metadata": {
    "ExecuteTime": {
     "end_time": "2025-01-21T10:52:39.608276Z",
     "start_time": "2025-01-21T10:52:39.604711Z"
    }
   },
   "cell_type": "code",
   "source": [
    "from tensorflow import keras\n",
    "from tensorflow.keras import layers\n",
    "model = keras.Sequential([\n",
    "    layers.Dense(512, activation=\"relu\"),\n",
    "    layers.Dense(10, activation=\"softmax\"),\n",
    "])"
   ],
   "id": "93890db4b7169fce",
   "outputs": [],
   "execution_count": 24
  },
  {
   "metadata": {
    "ExecuteTime": {
     "end_time": "2025-01-21T10:52:39.618288Z",
     "start_time": "2025-01-21T10:52:39.614418Z"
    }
   },
   "cell_type": "code",
   "source": [
    "model.compile(optimizer=\"rmsprop\",\n",
    "              loss=\"sparse_categorical_crossentropy\",\n",
    "              metrics=[\"accuracy\"])"
   ],
   "id": "6219e50b4352ed3",
   "outputs": [],
   "execution_count": 25
  },
  {
   "metadata": {
    "ExecuteTime": {
     "end_time": "2025-01-21T10:52:39.703606Z",
     "start_time": "2025-01-21T10:52:39.623938Z"
    }
   },
   "cell_type": "code",
   "source": [
    "train_images = train_images.reshape((60000, 28 * 28))\n",
    "train_images = train_images / 255.0\n",
    "test_images = test_images.reshape((10000, 28 * 28))\n",
    "test_images = test_images / 255.0\n"
   ],
   "id": "f181bbeaf5b595ca",
   "outputs": [],
   "execution_count": 26
  },
  {
   "metadata": {
    "ExecuteTime": {
     "end_time": "2025-01-21T10:52:44.660436Z",
     "start_time": "2025-01-21T10:52:39.710690Z"
    }
   },
   "cell_type": "code",
   "source": "model.fit(train_images, train_labels, epochs=5, batch_size=128)",
   "id": "cd19c1f753e40783",
   "outputs": [
    {
     "name": "stdout",
     "output_type": "stream",
     "text": [
      "Epoch 1/5\n",
      "469/469 [==============================] - 1s 2ms/step - loss: 0.2575 - accuracy: 0.9257\n",
      "Epoch 2/5\n",
      "469/469 [==============================] - 1s 2ms/step - loss: 0.1043 - accuracy: 0.9692\n",
      "Epoch 3/5\n",
      "469/469 [==============================] - 1s 2ms/step - loss: 0.0678 - accuracy: 0.9803\n",
      "Epoch 4/5\n",
      "469/469 [==============================] - 1s 2ms/step - loss: 0.0502 - accuracy: 0.9846\n",
      "Epoch 5/5\n",
      "469/469 [==============================] - 1s 2ms/step - loss: 0.0373 - accuracy: 0.9890\n"
     ]
    },
    {
     "data": {
      "text/plain": [
       "<keras.callbacks.History at 0x30ef28850>"
      ]
     },
     "execution_count": 27,
     "metadata": {},
     "output_type": "execute_result"
    }
   ],
   "execution_count": 27
  },
  {
   "metadata": {
    "ExecuteTime": {
     "end_time": "2025-01-21T10:58:42.294569Z",
     "start_time": "2025-01-21T10:58:42.254356Z"
    }
   },
   "cell_type": "code",
   "source": [
    "test_digits = test_images[0:10]\n",
    "predictions = model.predict(test_digits)\n",
    "predictions[0]"
   ],
   "id": "bd939f406be3adb3",
   "outputs": [
    {
     "data": {
      "text/plain": [
       "array([3.1785650e-09, 9.5649898e-11, 6.6979101e-06, 1.0032848e-05,\n",
       "       3.1321130e-11, 1.4136746e-08, 3.7003512e-14, 9.9998224e-01,\n",
       "       2.4873179e-07, 8.3295367e-07], dtype=float32)"
      ]
     },
     "execution_count": 28,
     "metadata": {},
     "output_type": "execute_result"
    }
   ],
   "execution_count": 28
  },
  {
   "metadata": {
    "ExecuteTime": {
     "end_time": "2025-01-21T10:59:24.247140Z",
     "start_time": "2025-01-21T10:59:24.243915Z"
    }
   },
   "cell_type": "code",
   "source": "predictions[0].argmax()",
   "id": "d8fca03f6d62c0c",
   "outputs": [
    {
     "data": {
      "text/plain": [
       "7"
      ]
     },
     "execution_count": 29,
     "metadata": {},
     "output_type": "execute_result"
    }
   ],
   "execution_count": 29
  },
  {
   "metadata": {
    "ExecuteTime": {
     "end_time": "2025-01-21T11:01:52.820089Z",
     "start_time": "2025-01-21T11:01:52.816585Z"
    }
   },
   "cell_type": "code",
   "source": "predictions[0][7]\n",
   "id": "87b25eaa6ce73455",
   "outputs": [
    {
     "data": {
      "text/plain": [
       "0.99998224"
      ]
     },
     "execution_count": 30,
     "metadata": {},
     "output_type": "execute_result"
    }
   ],
   "execution_count": 30
  },
  {
   "metadata": {
    "ExecuteTime": {
     "end_time": "2025-01-21T11:01:59.912046Z",
     "start_time": "2025-01-21T11:01:59.908891Z"
    }
   },
   "cell_type": "code",
   "source": "test_labels[0]",
   "id": "86a9329e7325c191",
   "outputs": [
    {
     "data": {
      "text/plain": [
       "7"
      ]
     },
     "execution_count": 31,
     "metadata": {},
     "output_type": "execute_result"
    }
   ],
   "execution_count": 31
  },
  {
   "metadata": {
    "ExecuteTime": {
     "end_time": "2025-01-21T11:03:28.479183Z",
     "start_time": "2025-01-21T11:03:28.274624Z"
    }
   },
   "cell_type": "code",
   "source": [
    "test_loss, test_acc = model.evaluate(test_images, test_labels)\n",
    "print(f\"test_acc: {test_acc}\")"
   ],
   "id": "f2d063cbc9817342",
   "outputs": [
    {
     "name": "stdout",
     "output_type": "stream",
     "text": [
      "313/313 [==============================] - 0s 449us/step - loss: 0.0658 - accuracy: 0.9807\n",
      "test_acc: 0.9807000160217285\n"
     ]
    }
   ],
   "execution_count": 32
  },
  {
   "metadata": {},
   "cell_type": "code",
   "outputs": [],
   "execution_count": null,
   "source": "",
   "id": "da422fef2372c12"
  }
 ],
 "metadata": {
  "kernelspec": {
   "display_name": "tensorflow_env",
   "language": "python",
   "name": "python3"
  },
  "language_info": {
   "codemirror_mode": {
    "name": "ipython",
    "version": 3
   },
   "file_extension": ".py",
   "mimetype": "text/x-python",
   "name": "python",
   "nbconvert_exporter": "python",
   "pygments_lexer": "ipython3",
   "version": "3.9.18"
  }
 },
 "nbformat": 4,
 "nbformat_minor": 5
}
